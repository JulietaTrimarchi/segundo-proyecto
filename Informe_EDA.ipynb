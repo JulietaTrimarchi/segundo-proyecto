{
 "cells": [
  {
   "cell_type": "markdown",
   "metadata": {},
   "source": [
    "### Exploratory Data Analysis"
   ]
  },
  {
   "cell_type": "markdown",
   "metadata": {},
   "source": [
    "**Objetivo:** Mi análisis va a estar orientado en las oportunidades de crecimiento en cuanto a la infraestructura y a la penetración. Para dicho análisis voy a utilizar del Dataset \"Internet\" y voy a analizar los siguientes aspectos:\n",
    "- Comparación entre la cantidad de accesos por tecnología en cada ##**provincia o localidad**## para detectar cuáles tienen una menor penetración de tecnologías más modernas o eficientes.\n",
    "- Identificar ##**provincias o localidades**## con baja cantidad de accesos por cada 100 habitantes y cada 100 hogares para enfocar allí las oportunidades de crecimiento.\n",
    "- Analizar el crecimiento o disminución de accesos por tecnología en distintos años y trimestres. \n",
    "\n",
    "Voy a complementar dicha información con los datos obtenidos del Dataset \"Mapa de conectividad\" del cual voy a analizar tales cosas... **Completar**"
   ]
  }
 ],
 "metadata": {
  "kernelspec": {
   "display_name": "entorno_proyecto_analytics",
   "language": "python",
   "name": "python3"
  },
  "language_info": {
   "name": "python",
   "version": "3.12.4"
  }
 },
 "nbformat": 4,
 "nbformat_minor": 2
}
